{
 "cells": [
  {
   "cell_type": "markdown",
   "metadata": {},
   "source": [
    "## Data cleaning with pandas"
   ]
  },
  {
   "cell_type": "markdown",
   "metadata": {},
   "source": [
    "Pandas is a python library to easily work with data. It's ideal for data cleaning and tranforming offering a wide range of methods to replace, drop, slice and merge parts or entire dataframes. This tutorial will use the data generated through our scraping operation on Rotten Tomatoes. We will quickly see how to load data, consolidate their structure, change data format and create/export smaller datasets that later will be used for visualization purposes.\n",
    "\n",
    "This is a quick pandas overview. We won't cover statistics or data analysis tasks together right away. You can find plenty of resources on the web that will help you with more delicate and time consuming tasks, this is just a way for you to get started."
   ]
  },
  {
   "cell_type": "code",
   "execution_count": 31,
   "metadata": {},
   "outputs": [],
   "source": [
    "import pandas as pd\n",
    "import numpy as np\n",
    "import datetime as dt\n",
    "import re\n",
    "\n",
    "#Disable warning after check its safety in: https://stackoverflow.com/questions/20625582/how-to-deal-with-settingwithcopywarning-in-pandas\n",
    "pd.options.mode.chained_assignment = None  # default='warn'"
   ]
  },
  {
   "cell_type": "markdown",
   "metadata": {},
   "source": [
    "#### Load and preview data"
   ]
  },
  {
   "cell_type": "markdown",
   "metadata": {},
   "source": [
    "We can easily open a csv file by specifying its directory. If we use `pd.read_csv` we also automatically convert our file into a Dataframe that can be later manipulated. We can also display data very conveniently by using `.sample()`, `.head()` or `.tail()`."
   ]
  },
  {
   "cell_type": "code",
   "execution_count": 52,
   "metadata": {},
   "outputs": [
    {
     "data": {
      "text/html": [
       "<div>\n",
       "<style scoped>\n",
       "    .dataframe tbody tr th:only-of-type {\n",
       "        vertical-align: middle;\n",
       "    }\n",
       "\n",
       "    .dataframe tbody tr th {\n",
       "        vertical-align: top;\n",
       "    }\n",
       "\n",
       "    .dataframe thead th {\n",
       "        text-align: right;\n",
       "    }\n",
       "</style>\n",
       "<table border=\"1\" class=\"dataframe\">\n",
       "  <thead>\n",
       "    <tr style=\"text-align: right;\">\n",
       "      <th></th>\n",
       "      <th>Unnamed: 0</th>\n",
       "      <th>Title</th>\n",
       "      <th>Runtime</th>\n",
       "      <th>Release Date</th>\n",
       "      <th>IMDB Rating</th>\n",
       "      <th>Critics Score</th>\n",
       "      <th>Votes</th>\n",
       "      <th>Gross</th>\n",
       "    </tr>\n",
       "  </thead>\n",
       "  <tbody>\n",
       "    <tr>\n",
       "      <th>122</th>\n",
       "      <td>122</td>\n",
       "      <td>Birdman or (The Unexpected Virtue of Ignorance)</td>\n",
       "      <td>119 min</td>\n",
       "      <td>(2014)</td>\n",
       "      <td>7.7</td>\n",
       "      <td>87</td>\n",
       "      <td>608477</td>\n",
       "      <td>42340598</td>\n",
       "    </tr>\n",
       "    <tr>\n",
       "      <th>109</th>\n",
       "      <td>109</td>\n",
       "      <td>Kingsman: The Secret Service</td>\n",
       "      <td>129 min</td>\n",
       "      <td>(2014)</td>\n",
       "      <td>7.7</td>\n",
       "      <td>60</td>\n",
       "      <td>629222</td>\n",
       "      <td>128261724</td>\n",
       "    </tr>\n",
       "    <tr>\n",
       "      <th>41</th>\n",
       "      <td>41</td>\n",
       "      <td>Harry Potter and the Deathly Hallows: Part 2</td>\n",
       "      <td>130 min</td>\n",
       "      <td>(2011)</td>\n",
       "      <td>8.1</td>\n",
       "      <td>85</td>\n",
       "      <td>821349</td>\n",
       "      <td>381011219</td>\n",
       "    </tr>\n",
       "    <tr>\n",
       "      <th>82</th>\n",
       "      <td>82</td>\n",
       "      <td>Pirates of the Caribbean: Dead Man's Chest</td>\n",
       "      <td>151 min</td>\n",
       "      <td>(2006)</td>\n",
       "      <td>7.3</td>\n",
       "      <td>53</td>\n",
       "      <td>684648</td>\n",
       "      <td>423315812</td>\n",
       "    </tr>\n",
       "    <tr>\n",
       "      <th>11</th>\n",
       "      <td>11</td>\n",
       "      <td>Avengers Assemble</td>\n",
       "      <td>143 min</td>\n",
       "      <td>(2012)</td>\n",
       "      <td>8.0</td>\n",
       "      <td>69</td>\n",
       "      <td>1329338</td>\n",
       "      <td>623279547</td>\n",
       "    </tr>\n",
       "  </tbody>\n",
       "</table>\n",
       "</div>"
      ],
      "text/plain": [
       "     Unnamed: 0                                            Title  Runtime  \\\n",
       "122         122  Birdman or (The Unexpected Virtue of Ignorance)  119 min   \n",
       "109         109                     Kingsman: The Secret Service  129 min   \n",
       "41           41     Harry Potter and the Deathly Hallows: Part 2  130 min   \n",
       "82           82       Pirates of the Caribbean: Dead Man's Chest  151 min   \n",
       "11           11                                Avengers Assemble  143 min   \n",
       "\n",
       "    Release Date  IMDB Rating  Critics Score    Votes      Gross  \n",
       "122       (2014)          7.7             87   608477   42340598  \n",
       "109       (2014)          7.7             60   629222  128261724  \n",
       "41        (2011)          8.1             85   821349  381011219  \n",
       "82        (2006)          7.3             53   684648  423315812  \n",
       "11        (2012)          8.0             69  1329338  623279547  "
      ]
     },
     "execution_count": 52,
     "metadata": {},
     "output_type": "execute_result"
    }
   ],
   "source": [
    "#Reading files\n",
    "target_file = 'movie_length_to_rating_2000_2021.csv'\n",
    "allTitles = pd.read_csv('data/unclean/' + target_file, sep=\",\")\n",
    "\n",
    "# Print a sample of rows\n",
    "allTitles.sample(5)"
   ]
  },
  {
   "cell_type": "code",
   "execution_count": 4,
   "metadata": {},
   "outputs": [
    {
     "data": {
      "text/html": [
       "<div>\n",
       "<style scoped>\n",
       "    .dataframe tbody tr th:only-of-type {\n",
       "        vertical-align: middle;\n",
       "    }\n",
       "\n",
       "    .dataframe tbody tr th {\n",
       "        vertical-align: top;\n",
       "    }\n",
       "\n",
       "    .dataframe thead th {\n",
       "        text-align: right;\n",
       "    }\n",
       "</style>\n",
       "<table border=\"1\" class=\"dataframe\">\n",
       "  <thead>\n",
       "    <tr style=\"text-align: right;\">\n",
       "      <th></th>\n",
       "      <th>Unnamed: 0</th>\n",
       "      <th>Title</th>\n",
       "      <th>Runtime</th>\n",
       "      <th>Release Date</th>\n",
       "      <th>IMDB Rating</th>\n",
       "      <th>Critics Score</th>\n",
       "    </tr>\n",
       "  </thead>\n",
       "  <tbody>\n",
       "    <tr>\n",
       "      <th>0</th>\n",
       "      <td>0</td>\n",
       "      <td>The Shawshank Redemption</td>\n",
       "      <td>142 min</td>\n",
       "      <td>(1994)</td>\n",
       "      <td>9.3</td>\n",
       "      <td>80</td>\n",
       "    </tr>\n",
       "    <tr>\n",
       "      <th>1</th>\n",
       "      <td>1</td>\n",
       "      <td>The Dark Knight</td>\n",
       "      <td>152 min</td>\n",
       "      <td>(2008)</td>\n",
       "      <td>9.0</td>\n",
       "      <td>84</td>\n",
       "    </tr>\n",
       "    <tr>\n",
       "      <th>2</th>\n",
       "      <td>2</td>\n",
       "      <td>Fight Club</td>\n",
       "      <td>139 min</td>\n",
       "      <td>(1999)</td>\n",
       "      <td>8.8</td>\n",
       "      <td>66</td>\n",
       "    </tr>\n",
       "    <tr>\n",
       "      <th>3</th>\n",
       "      <td>3</td>\n",
       "      <td>Forrest Gump</td>\n",
       "      <td>142 min</td>\n",
       "      <td>(1994)</td>\n",
       "      <td>8.8</td>\n",
       "      <td>82</td>\n",
       "    </tr>\n",
       "    <tr>\n",
       "      <th>4</th>\n",
       "      <td>4</td>\n",
       "      <td>Pulp Fiction</td>\n",
       "      <td>154 min</td>\n",
       "      <td>(1994)</td>\n",
       "      <td>8.9</td>\n",
       "      <td>94</td>\n",
       "    </tr>\n",
       "  </tbody>\n",
       "</table>\n",
       "</div>"
      ],
      "text/plain": [
       "   Unnamed: 0                     Title  Runtime Release Date  IMDB Rating  \\\n",
       "0           0  The Shawshank Redemption  142 min       (1994)          9.3   \n",
       "1           1           The Dark Knight  152 min       (2008)          9.0   \n",
       "2           2                Fight Club  139 min       (1999)          8.8   \n",
       "3           3              Forrest Gump  142 min       (1994)          8.8   \n",
       "4           4              Pulp Fiction  154 min       (1994)          8.9   \n",
       "\n",
       "   Critics Score  \n",
       "0             80  \n",
       "1             84  \n",
       "2             66  \n",
       "3             82  \n",
       "4             94  "
      ]
     },
     "execution_count": 4,
     "metadata": {},
     "output_type": "execute_result"
    }
   ],
   "source": [
    "# Print the first 5 rows in the dataframe\n",
    "allTitles.head(5)"
   ]
  },
  {
   "cell_type": "code",
   "execution_count": 5,
   "metadata": {},
   "outputs": [
    {
     "data": {
      "text/html": [
       "<div>\n",
       "<style scoped>\n",
       "    .dataframe tbody tr th:only-of-type {\n",
       "        vertical-align: middle;\n",
       "    }\n",
       "\n",
       "    .dataframe tbody tr th {\n",
       "        vertical-align: top;\n",
       "    }\n",
       "\n",
       "    .dataframe thead th {\n",
       "        text-align: right;\n",
       "    }\n",
       "</style>\n",
       "<table border=\"1\" class=\"dataframe\">\n",
       "  <thead>\n",
       "    <tr style=\"text-align: right;\">\n",
       "      <th></th>\n",
       "      <th>Unnamed: 0</th>\n",
       "      <th>Title</th>\n",
       "      <th>Runtime</th>\n",
       "      <th>Release Date</th>\n",
       "      <th>IMDB Rating</th>\n",
       "      <th>Critics Score</th>\n",
       "    </tr>\n",
       "  </thead>\n",
       "  <tbody>\n",
       "    <tr>\n",
       "      <th>245</th>\n",
       "      <td>245</td>\n",
       "      <td>The Secret Life of Walter Mitty</td>\n",
       "      <td>114 min</td>\n",
       "      <td>(2013)</td>\n",
       "      <td>7.3</td>\n",
       "      <td>54</td>\n",
       "    </tr>\n",
       "    <tr>\n",
       "      <th>246</th>\n",
       "      <td>246</td>\n",
       "      <td>Lord of War</td>\n",
       "      <td>122 min</td>\n",
       "      <td>(2005)</td>\n",
       "      <td>7.6</td>\n",
       "      <td>62</td>\n",
       "    </tr>\n",
       "    <tr>\n",
       "      <th>247</th>\n",
       "      <td>247</td>\n",
       "      <td>Gone with the Wind</td>\n",
       "      <td>238 min</td>\n",
       "      <td>(1939)</td>\n",
       "      <td>8.1</td>\n",
       "      <td>97</td>\n",
       "    </tr>\n",
       "    <tr>\n",
       "      <th>248</th>\n",
       "      <td>248</td>\n",
       "      <td>Annihilation</td>\n",
       "      <td>115 min</td>\n",
       "      <td>(I) (2018)</td>\n",
       "      <td>6.8</td>\n",
       "      <td>79</td>\n",
       "    </tr>\n",
       "    <tr>\n",
       "      <th>249</th>\n",
       "      <td>249</td>\n",
       "      <td>Magnolia</td>\n",
       "      <td>188 min</td>\n",
       "      <td>(1999)</td>\n",
       "      <td>8.0</td>\n",
       "      <td>77</td>\n",
       "    </tr>\n",
       "  </tbody>\n",
       "</table>\n",
       "</div>"
      ],
      "text/plain": [
       "     Unnamed: 0                            Title  Runtime Release Date  \\\n",
       "245         245  The Secret Life of Walter Mitty  114 min       (2013)   \n",
       "246         246                      Lord of War  122 min       (2005)   \n",
       "247         247               Gone with the Wind  238 min       (1939)   \n",
       "248         248                     Annihilation  115 min   (I) (2018)   \n",
       "249         249                         Magnolia  188 min       (1999)   \n",
       "\n",
       "     IMDB Rating  Critics Score  \n",
       "245          7.3             54  \n",
       "246          7.6             62  \n",
       "247          8.1             97  \n",
       "248          6.8             79  \n",
       "249          8.0             77  "
      ]
     },
     "execution_count": 5,
     "metadata": {},
     "output_type": "execute_result"
    }
   ],
   "source": [
    "# Print the last 5 rows in the dataframe\n",
    "allTitles.tail(5)"
   ]
  },
  {
   "cell_type": "markdown",
   "metadata": {},
   "source": [
    "#### Change dataframe columns"
   ]
  },
  {
   "cell_type": "markdown",
   "metadata": {},
   "source": [
    "We can drop, sort, create or rename columns very easily."
   ]
  },
  {
   "cell_type": "code",
   "execution_count": 53,
   "metadata": {},
   "outputs": [],
   "source": [
    "# Drop the index column that I accidentally exported when scraping \n",
    "#(it can be easily avoided by setting Index=False when exporting the csv)\n",
    "allTitles = allTitles.drop(['Unnamed: 0'], axis=1)"
   ]
  },
  {
   "cell_type": "code",
   "execution_count": 4,
   "metadata": {},
   "outputs": [
    {
     "data": {
      "text/plain": [
       "Index(['Title', 'Runtime', 'Release Date', 'IMDB Rating', 'Critics Score',\n",
       "       'Votes', 'Gross'],\n",
       "      dtype='object')"
      ]
     },
     "execution_count": 4,
     "metadata": {},
     "output_type": "execute_result"
    }
   ],
   "source": [
    "# Print column names\n",
    "allTitles.columns"
   ]
  },
  {
   "cell_type": "code",
   "execution_count": 92,
   "metadata": {},
   "outputs": [
    {
     "data": {
      "text/plain": [
       "Index(['Title', 'Runtime', 'Release Date', 'IMDB Rating', 'Critics Score',\n",
       "       'Votes', 'Gross'],\n",
       "      dtype='object')"
      ]
     },
     "execution_count": 92,
     "metadata": {},
     "output_type": "execute_result"
    }
   ],
   "source": [
    "allTitles.columns"
   ]
  },
  {
   "cell_type": "markdown",
   "metadata": {},
   "source": [
    "#### Change data format"
   ]
  },
  {
   "cell_type": "markdown",
   "metadata": {},
   "source": [
    "Another annoying task is changing data format. We have at our disposal a series of methods to do that, not only for standard formats such as strings or integers, but also for \"special\" ones like datetime."
   ]
  },
  {
   "cell_type": "code",
   "execution_count": 47,
   "metadata": {},
   "outputs": [
    {
     "data": {
      "text/plain": [
       "array(['(1994)', '(1999)', '(1995)', '(1991)', '(1998)', '(1993)',\n",
       "       '(1980)', '(1985)', '(1997)', '(1990)', '(1983)', '(1992)',\n",
       "       '(1981)', '(1988)', '(1984)', '(1982)', '(1989)', '(1987)',\n",
       "       '(1986)', '(1996)', '(I) (1995)', '(I) (1987)', '(I) (1996)',\n",
       "       '(I) (1998)'], dtype=object)"
      ]
     },
     "execution_count": 47,
     "metadata": {},
     "output_type": "execute_result"
    }
   ],
   "source": [
    "# We can check our result by printing the unique values for a particular column.\n",
    "allTitles['Release Date'].unique()"
   ]
  },
  {
   "cell_type": "code",
   "execution_count": 54,
   "metadata": {},
   "outputs": [
    {
     "name": "stdout",
     "output_type": "stream",
     "text": [
      "250\n",
      "250\n"
     ]
    }
   ],
   "source": [
    "#Removing one movie because of this incorrect field.\n",
    "print(len(allTitles))\n",
    "#cleanedTitles = allTitles[allTitles['Gross'] != 'none']\n",
    "cleanedTitles = allTitles\n",
    "print(len(cleanedTitles))"
   ]
  },
  {
   "cell_type": "code",
   "execution_count": 81,
   "metadata": {},
   "outputs": [
    {
     "data": {
      "text/plain": [
       "Unnamed: 0         int64\n",
       "Title             object\n",
       "Runtime           object\n",
       "Release Date      object\n",
       "IMDB Rating      float64\n",
       "Critics Score      int64\n",
       "Votes              int64\n",
       "Gross             object\n",
       "dtype: object"
      ]
     },
     "execution_count": 81,
     "metadata": {},
     "output_type": "execute_result"
    }
   ],
   "source": [
    "# We can check data format by using .dtypes. In pandas strings are usually displayed as objects.\n",
    "allTitles.dtypes"
   ]
  },
  {
   "cell_type": "code",
   "execution_count": 55,
   "metadata": {},
   "outputs": [],
   "source": [
    "# Convert again datetime obj into string to obtain only date (we use the dt method .date())\n",
    "cleanedTitles['Release Date'] = cleanedTitles['Release Date'].map(lambda x: re.search(r'\\d{4}', x).group(0))\n",
    "cleanedTitles['Runtime'] = cleanedTitles['Runtime'].map(lambda x: re.search(r'\\d{1,3}', x).group(0))\n",
    "cleanedTitles['Critics Score'] = cleanedTitles['Critics Score'].map(lambda x: round(x * 0.1, 1))\n",
    "cleanedTitles['Gross'] = cleanedTitles['Gross'].map(lambda x: 0 if x == 'none' else x)"
   ]
  },
  {
   "cell_type": "code",
   "execution_count": 56,
   "metadata": {},
   "outputs": [
    {
     "data": {
      "text/plain": [
       "array(['2008', '2010', '2001', '2003', '2014', '2012', '2002', '2000',\n",
       "       '2005', '2009', '2013', '2006', '2019', '2016', '2018', '2004',\n",
       "       '2015', '2007', '2011', '2017', '2020'], dtype=object)"
      ]
     },
     "execution_count": 56,
     "metadata": {},
     "output_type": "execute_result"
    }
   ],
   "source": [
    "# Check the output\n",
    "cleanedTitles['Release Date'].unique()"
   ]
  },
  {
   "cell_type": "markdown",
   "metadata": {},
   "source": [
    "#### Split rows, adapt structure, create subselections and data slices"
   ]
  },
  {
   "cell_type": "markdown",
   "metadata": {},
   "source": [
    "It is also possible to adapt the structure of our data by adding columns, splitting rows and slicing the dataframe to smaller ones. "
   ]
  },
  {
   "cell_type": "code",
   "execution_count": 45,
   "metadata": {
    "scrolled": true
   },
   "outputs": [
    {
     "data": {
      "text/plain": [
       "array(['142', '152', '139', '154', '178', '201', '175', '169', '164',\n",
       "       '179', '127', '165', '155', '140', '153', '118', '180', '195',\n",
       "       '130', '151', '189', '202', '122', '194', '110', '146', '132',\n",
       "       '119', '111', '106', '103', '88', '96', '181', '99', '133', '108',\n",
       "       '107', '149', '126', '141', '135', '120', '112', '144', '102',\n",
       "       '91', '170', '150', '114', '113', '117', '156', '116', '101',\n",
       "       '137', '134', '95', '93', '161', '147', '166', '100', '148', '143',\n",
       "       '168', '138', '158', '128', '123', '162', '163', '105', '157',\n",
       "       '90', '109', '115', '92', '129', '131', '125', '167', '187', '121',\n",
       "       '160', '89', '97', '94', '136', '209', '172', '229', '207', '183',\n",
       "       '124', '159', '238', '188'], dtype=object)"
      ]
     },
     "execution_count": 45,
     "metadata": {},
     "output_type": "execute_result"
    }
   ],
   "source": [
    "cleanedTitles['Runtime'].unique()"
   ]
  },
  {
   "cell_type": "code",
   "execution_count": 57,
   "metadata": {},
   "outputs": [],
   "source": [
    "#Export top 100 selection\n",
    "cleanedTitles.to_csv('data/' + target_file, sep=\",\", index=False, na_rep='NaN')"
   ]
  },
  {
   "cell_type": "code",
   "execution_count": null,
   "metadata": {},
   "outputs": [],
   "source": []
  }
 ],
 "metadata": {
  "kernelspec": {
   "display_name": "Python 3 (ipykernel)",
   "language": "python",
   "name": "python3"
  },
  "language_info": {
   "codemirror_mode": {
    "name": "ipython",
    "version": 3
   },
   "file_extension": ".py",
   "mimetype": "text/x-python",
   "name": "python",
   "nbconvert_exporter": "python",
   "pygments_lexer": "ipython3",
   "version": "3.8.8"
  }
 },
 "nbformat": 4,
 "nbformat_minor": 4
}
