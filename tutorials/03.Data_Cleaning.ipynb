{
 "cells": [
  {
   "cell_type": "markdown",
   "metadata": {},
   "source": [
    "## Data cleaning with pandas"
   ]
  },
  {
   "cell_type": "markdown",
   "metadata": {},
   "source": [
    "Pandas is a python library to easily work with data. It's ideal for data cleaning and tranforming offering a wide range of methods to replace, drop, slice and merge parts or entire dataframes. This tutorial will use the data generated through our scraping operation on Rotten Tomatoes. We will quickly see how to load data, consolidate their structure, change data format and create/export smaller datasets that later will be used for visualization purposes.\n",
    "\n",
    "This is a quick pandas overview. We won't cover statistics or data analysis tasks together right away. You can find plenty of resources on the web that will help you with more delicate and time consuming tasks, this is just a way for you to get started."
   ]
  },
  {
   "cell_type": "code",
   "execution_count": 13,
   "metadata": {},
   "outputs": [],
   "source": [
    "import pandas as pd\n",
    "import numpy as np\n",
    "import datetime as dt\n",
    "import re\n",
    "\n",
    "#Disable warning after check its safety in: https://stackoverflow.com/questions/20625582/how-to-deal-with-settingwithcopywarning-in-pandas\n",
    "pd.options.mode.chained_assignment = None  # default='warn'"
   ]
  },
  {
   "cell_type": "markdown",
   "metadata": {},
   "source": [
    "#### Load and preview data"
   ]
  },
  {
   "cell_type": "markdown",
   "metadata": {},
   "source": [
    "We can easily open a csv file by specifying its directory. If we use `pd.read_csv` we also automatically convert our file into a Dataframe that can be later manipulated. We can also display data very conveniently by using `.sample()`, `.head()` or `.tail()`."
   ]
  },
  {
   "cell_type": "code",
   "execution_count": 89,
   "metadata": {},
   "outputs": [
    {
     "data": {
      "text/html": [
       "<div>\n",
       "<style scoped>\n",
       "    .dataframe tbody tr th:only-of-type {\n",
       "        vertical-align: middle;\n",
       "    }\n",
       "\n",
       "    .dataframe tbody tr th {\n",
       "        vertical-align: top;\n",
       "    }\n",
       "\n",
       "    .dataframe thead th {\n",
       "        text-align: right;\n",
       "    }\n",
       "</style>\n",
       "<table border=\"1\" class=\"dataframe\">\n",
       "  <thead>\n",
       "    <tr style=\"text-align: right;\">\n",
       "      <th></th>\n",
       "      <th>Unnamed: 0</th>\n",
       "      <th>Title</th>\n",
       "      <th>Runtime</th>\n",
       "      <th>Release Date</th>\n",
       "      <th>IMDB Rating</th>\n",
       "      <th>Critics Score</th>\n",
       "      <th>Votes</th>\n",
       "      <th>Gross</th>\n",
       "    </tr>\n",
       "  </thead>\n",
       "  <tbody>\n",
       "    <tr>\n",
       "      <th>169</th>\n",
       "      <td>169</td>\n",
       "      <td>The Shape of Water</td>\n",
       "      <td>123 min</td>\n",
       "      <td>(2017)</td>\n",
       "      <td>7.3</td>\n",
       "      <td>87</td>\n",
       "      <td>400144</td>\n",
       "      <td>63859435</td>\n",
       "    </tr>\n",
       "    <tr>\n",
       "      <th>122</th>\n",
       "      <td>122</td>\n",
       "      <td>Baby Driver</td>\n",
       "      <td>113 min</td>\n",
       "      <td>(2017)</td>\n",
       "      <td>7.6</td>\n",
       "      <td>86</td>\n",
       "      <td>492723</td>\n",
       "      <td>107825862</td>\n",
       "    </tr>\n",
       "    <tr>\n",
       "      <th>141</th>\n",
       "      <td>141</td>\n",
       "      <td>Spotlight</td>\n",
       "      <td>129 min</td>\n",
       "      <td>(I) (2015)</td>\n",
       "      <td>8.1</td>\n",
       "      <td>93</td>\n",
       "      <td>450004</td>\n",
       "      <td>45055776</td>\n",
       "    </tr>\n",
       "    <tr>\n",
       "      <th>69</th>\n",
       "      <td>69</td>\n",
       "      <td>Parasite</td>\n",
       "      <td>132 min</td>\n",
       "      <td>(2019)</td>\n",
       "      <td>8.6</td>\n",
       "      <td>96</td>\n",
       "      <td>700996</td>\n",
       "      <td>53367844</td>\n",
       "    </tr>\n",
       "    <tr>\n",
       "      <th>188</th>\n",
       "      <td>188</td>\n",
       "      <td>The Illusionist</td>\n",
       "      <td>110 min</td>\n",
       "      <td>(2006)</td>\n",
       "      <td>7.6</td>\n",
       "      <td>68</td>\n",
       "      <td>365274</td>\n",
       "      <td>39868642</td>\n",
       "    </tr>\n",
       "  </tbody>\n",
       "</table>\n",
       "</div>"
      ],
      "text/plain": [
       "     Unnamed: 0               Title  Runtime Release Date  IMDB Rating  \\\n",
       "169         169  The Shape of Water  123 min       (2017)          7.3   \n",
       "122         122         Baby Driver  113 min       (2017)          7.6   \n",
       "141         141           Spotlight  129 min   (I) (2015)          8.1   \n",
       "69           69            Parasite  132 min       (2019)          8.6   \n",
       "188         188     The Illusionist  110 min       (2006)          7.6   \n",
       "\n",
       "     Critics Score   Votes      Gross  \n",
       "169             87  400144   63859435  \n",
       "122             86  492723  107825862  \n",
       "141             93  450004   45055776  \n",
       "69              96  700996   53367844  \n",
       "188             68  365274   39868642  "
      ]
     },
     "execution_count": 89,
     "metadata": {},
     "output_type": "execute_result"
    }
   ],
   "source": [
    "#Reading files\n",
    "allTitles = pd.read_csv('data/unclean/movie_length_to_rating.csv', sep=\",\")\n",
    "\n",
    "# Print a sample of rows\n",
    "allTitles.sample(5)"
   ]
  },
  {
   "cell_type": "code",
   "execution_count": 4,
   "metadata": {},
   "outputs": [
    {
     "data": {
      "text/html": [
       "<div>\n",
       "<style scoped>\n",
       "    .dataframe tbody tr th:only-of-type {\n",
       "        vertical-align: middle;\n",
       "    }\n",
       "\n",
       "    .dataframe tbody tr th {\n",
       "        vertical-align: top;\n",
       "    }\n",
       "\n",
       "    .dataframe thead th {\n",
       "        text-align: right;\n",
       "    }\n",
       "</style>\n",
       "<table border=\"1\" class=\"dataframe\">\n",
       "  <thead>\n",
       "    <tr style=\"text-align: right;\">\n",
       "      <th></th>\n",
       "      <th>Unnamed: 0</th>\n",
       "      <th>Title</th>\n",
       "      <th>Runtime</th>\n",
       "      <th>Release Date</th>\n",
       "      <th>IMDB Rating</th>\n",
       "      <th>Critics Score</th>\n",
       "    </tr>\n",
       "  </thead>\n",
       "  <tbody>\n",
       "    <tr>\n",
       "      <th>0</th>\n",
       "      <td>0</td>\n",
       "      <td>The Shawshank Redemption</td>\n",
       "      <td>142 min</td>\n",
       "      <td>(1994)</td>\n",
       "      <td>9.3</td>\n",
       "      <td>80</td>\n",
       "    </tr>\n",
       "    <tr>\n",
       "      <th>1</th>\n",
       "      <td>1</td>\n",
       "      <td>The Dark Knight</td>\n",
       "      <td>152 min</td>\n",
       "      <td>(2008)</td>\n",
       "      <td>9.0</td>\n",
       "      <td>84</td>\n",
       "    </tr>\n",
       "    <tr>\n",
       "      <th>2</th>\n",
       "      <td>2</td>\n",
       "      <td>Fight Club</td>\n",
       "      <td>139 min</td>\n",
       "      <td>(1999)</td>\n",
       "      <td>8.8</td>\n",
       "      <td>66</td>\n",
       "    </tr>\n",
       "    <tr>\n",
       "      <th>3</th>\n",
       "      <td>3</td>\n",
       "      <td>Forrest Gump</td>\n",
       "      <td>142 min</td>\n",
       "      <td>(1994)</td>\n",
       "      <td>8.8</td>\n",
       "      <td>82</td>\n",
       "    </tr>\n",
       "    <tr>\n",
       "      <th>4</th>\n",
       "      <td>4</td>\n",
       "      <td>Pulp Fiction</td>\n",
       "      <td>154 min</td>\n",
       "      <td>(1994)</td>\n",
       "      <td>8.9</td>\n",
       "      <td>94</td>\n",
       "    </tr>\n",
       "  </tbody>\n",
       "</table>\n",
       "</div>"
      ],
      "text/plain": [
       "   Unnamed: 0                     Title  Runtime Release Date  IMDB Rating  \\\n",
       "0           0  The Shawshank Redemption  142 min       (1994)          9.3   \n",
       "1           1           The Dark Knight  152 min       (2008)          9.0   \n",
       "2           2                Fight Club  139 min       (1999)          8.8   \n",
       "3           3              Forrest Gump  142 min       (1994)          8.8   \n",
       "4           4              Pulp Fiction  154 min       (1994)          8.9   \n",
       "\n",
       "   Critics Score  \n",
       "0             80  \n",
       "1             84  \n",
       "2             66  \n",
       "3             82  \n",
       "4             94  "
      ]
     },
     "execution_count": 4,
     "metadata": {},
     "output_type": "execute_result"
    }
   ],
   "source": [
    "# Print the first 5 rows in the dataframe\n",
    "allTitles.head(5)"
   ]
  },
  {
   "cell_type": "code",
   "execution_count": 5,
   "metadata": {},
   "outputs": [
    {
     "data": {
      "text/html": [
       "<div>\n",
       "<style scoped>\n",
       "    .dataframe tbody tr th:only-of-type {\n",
       "        vertical-align: middle;\n",
       "    }\n",
       "\n",
       "    .dataframe tbody tr th {\n",
       "        vertical-align: top;\n",
       "    }\n",
       "\n",
       "    .dataframe thead th {\n",
       "        text-align: right;\n",
       "    }\n",
       "</style>\n",
       "<table border=\"1\" class=\"dataframe\">\n",
       "  <thead>\n",
       "    <tr style=\"text-align: right;\">\n",
       "      <th></th>\n",
       "      <th>Unnamed: 0</th>\n",
       "      <th>Title</th>\n",
       "      <th>Runtime</th>\n",
       "      <th>Release Date</th>\n",
       "      <th>IMDB Rating</th>\n",
       "      <th>Critics Score</th>\n",
       "    </tr>\n",
       "  </thead>\n",
       "  <tbody>\n",
       "    <tr>\n",
       "      <th>245</th>\n",
       "      <td>245</td>\n",
       "      <td>The Secret Life of Walter Mitty</td>\n",
       "      <td>114 min</td>\n",
       "      <td>(2013)</td>\n",
       "      <td>7.3</td>\n",
       "      <td>54</td>\n",
       "    </tr>\n",
       "    <tr>\n",
       "      <th>246</th>\n",
       "      <td>246</td>\n",
       "      <td>Lord of War</td>\n",
       "      <td>122 min</td>\n",
       "      <td>(2005)</td>\n",
       "      <td>7.6</td>\n",
       "      <td>62</td>\n",
       "    </tr>\n",
       "    <tr>\n",
       "      <th>247</th>\n",
       "      <td>247</td>\n",
       "      <td>Gone with the Wind</td>\n",
       "      <td>238 min</td>\n",
       "      <td>(1939)</td>\n",
       "      <td>8.1</td>\n",
       "      <td>97</td>\n",
       "    </tr>\n",
       "    <tr>\n",
       "      <th>248</th>\n",
       "      <td>248</td>\n",
       "      <td>Annihilation</td>\n",
       "      <td>115 min</td>\n",
       "      <td>(I) (2018)</td>\n",
       "      <td>6.8</td>\n",
       "      <td>79</td>\n",
       "    </tr>\n",
       "    <tr>\n",
       "      <th>249</th>\n",
       "      <td>249</td>\n",
       "      <td>Magnolia</td>\n",
       "      <td>188 min</td>\n",
       "      <td>(1999)</td>\n",
       "      <td>8.0</td>\n",
       "      <td>77</td>\n",
       "    </tr>\n",
       "  </tbody>\n",
       "</table>\n",
       "</div>"
      ],
      "text/plain": [
       "     Unnamed: 0                            Title  Runtime Release Date  \\\n",
       "245         245  The Secret Life of Walter Mitty  114 min       (2013)   \n",
       "246         246                      Lord of War  122 min       (2005)   \n",
       "247         247               Gone with the Wind  238 min       (1939)   \n",
       "248         248                     Annihilation  115 min   (I) (2018)   \n",
       "249         249                         Magnolia  188 min       (1999)   \n",
       "\n",
       "     IMDB Rating  Critics Score  \n",
       "245          7.3             54  \n",
       "246          7.6             62  \n",
       "247          8.1             97  \n",
       "248          6.8             79  \n",
       "249          8.0             77  "
      ]
     },
     "execution_count": 5,
     "metadata": {},
     "output_type": "execute_result"
    }
   ],
   "source": [
    "# Print the last 5 rows in the dataframe\n",
    "allTitles.tail(5)"
   ]
  },
  {
   "cell_type": "markdown",
   "metadata": {},
   "source": [
    "#### Change dataframe columns"
   ]
  },
  {
   "cell_type": "markdown",
   "metadata": {},
   "source": [
    "We can drop, sort, create or rename columns very easily."
   ]
  },
  {
   "cell_type": "code",
   "execution_count": 90,
   "metadata": {},
   "outputs": [],
   "source": [
    "# Drop the index column that I accidentally exported when scraping \n",
    "#(it can be easily avoided by setting Index=False when exporting the csv)\n",
    "allTitles = allTitles.drop(['Unnamed: 0'], axis=1)"
   ]
  },
  {
   "cell_type": "code",
   "execution_count": 91,
   "metadata": {},
   "outputs": [
    {
     "data": {
      "text/plain": [
       "Index(['Title', 'Runtime', 'Release Date', 'IMDB Rating', 'Critics Score',\n",
       "       'Votes', 'Gross'],\n",
       "      dtype='object')"
      ]
     },
     "execution_count": 91,
     "metadata": {},
     "output_type": "execute_result"
    }
   ],
   "source": [
    "# Print column names\n",
    "allTitles.columns"
   ]
  },
  {
   "cell_type": "code",
   "execution_count": 92,
   "metadata": {},
   "outputs": [
    {
     "data": {
      "text/plain": [
       "Index(['Title', 'Runtime', 'Release Date', 'IMDB Rating', 'Critics Score',\n",
       "       'Votes', 'Gross'],\n",
       "      dtype='object')"
      ]
     },
     "execution_count": 92,
     "metadata": {},
     "output_type": "execute_result"
    }
   ],
   "source": [
    "allTitles.columns"
   ]
  },
  {
   "cell_type": "markdown",
   "metadata": {},
   "source": [
    "#### Change data format"
   ]
  },
  {
   "cell_type": "markdown",
   "metadata": {},
   "source": [
    "Another annoying task is changing data format. We have at our disposal a series of methods to do that, not only for standard formats such as strings or integers, but also for \"special\" ones like datetime."
   ]
  },
  {
   "cell_type": "code",
   "execution_count": 8,
   "metadata": {},
   "outputs": [
    {
     "data": {
      "text/plain": [
       "array(['(1994)', '(2008)', '(1999)', '(2001)', '(2003)', '(1972)',\n",
       "       '(2014)', '(2012)', '(2002)', '(1995)', '(2000)', '(2005)',\n",
       "       '(2009)', '(1991)', '(1998)', '(2013)', '(1993)', '(2006)',\n",
       "       '(1974)', '(2019)', '(1997)', '(1990)', '(1992)', '(1975)',\n",
       "       '(1980)', '(2004)', '(2007)', '(2011)', '(2015)', '(1983)',\n",
       "       '(1976)', '(1957)', '(1982)', '(2010)', '(1987)', '(2017)',\n",
       "       '(I) (2015)', '(1996)', '(II) (2016)', '(1979)', '(I) (2011)',\n",
       "       '(1942)', '(2016)', '(2018)', '(1988)', '(I) (2013)', '(1989)',\n",
       "       '(I) (2008)', '(1946)', '(I) (2004)', '(2021)', '(1941)', '(1986)',\n",
       "       '(1984)', '(I) (2016)', '(1985)', '(I) (2010)', '(I) (2014)',\n",
       "       '(I) (2012)', '(1954)', '(I) (2009)', '(1978)', '(I) (2007)',\n",
       "       '(1962)', '(1939)', '(I) (2018)'], dtype=object)"
      ]
     },
     "execution_count": 8,
     "metadata": {},
     "output_type": "execute_result"
    }
   ],
   "source": [
    "# We can check our result by printing the unique values for a particular column.\n",
    "allTitles['Release Date'].unique()"
   ]
  },
  {
   "cell_type": "code",
   "execution_count": 93,
   "metadata": {},
   "outputs": [],
   "source": [
    "#Removing one movie because of this incorrect field.\n",
    "cleanedTitles = allTitles[allTitles['Release Date'] != '1h 27m']\n",
    "cleanedTitles = cleanedTitles[cleanedTitles['Gross'] != 'none']"
   ]
  },
  {
   "cell_type": "code",
   "execution_count": 81,
   "metadata": {},
   "outputs": [
    {
     "data": {
      "text/plain": [
       "Unnamed: 0         int64\n",
       "Title             object\n",
       "Runtime           object\n",
       "Release Date      object\n",
       "IMDB Rating      float64\n",
       "Critics Score      int64\n",
       "Votes              int64\n",
       "Gross             object\n",
       "dtype: object"
      ]
     },
     "execution_count": 81,
     "metadata": {},
     "output_type": "execute_result"
    }
   ],
   "source": [
    "# We can check data format by using .dtypes. In pandas strings are usually displayed as objects.\n",
    "allTitles.dtypes"
   ]
  },
  {
   "cell_type": "code",
   "execution_count": 95,
   "metadata": {},
   "outputs": [],
   "source": [
    "# Convert again datetime obj into string to obtain only date (we use the dt method .date())\n",
    "cleanedTitles['Release Date'] = cleanedTitles['Release Date'].map(lambda x: re.search(r'\\d{4}', x).group(0))\n",
    "cleanedTitles['Runtime'] = cleanedTitles['Runtime'].map(lambda x: re.search(r'\\d{1,3}', x).group(0))\n",
    "cleanedTitles['Critics Score'] = cleanedTitles['Critics Score'].map(lambda x: round(x * 0.1, 1))"
   ]
  },
  {
   "cell_type": "code",
   "execution_count": 96,
   "metadata": {},
   "outputs": [
    {
     "data": {
      "text/plain": [
       "array([ 8. ,  8.4,  6.6,  8.2,  9.4,  9.2, 10. ,  7.4,  7.8,  8.7,  6.5,\n",
       "        8.1,  6.7,  7. ,  6.9,  8.5,  9.1,  7.5,  6.1,  9. ,  5.9,  6.4,\n",
       "        6.2,  7.7,  8.8,  6.8,  7.9,  8.9,  7.2,  5.7,  9.6,  5.2,  7.6,\n",
       "        7.1,  9.5,  8.6,  8.3,  9.8,  7.3,  9.3,  5.3,  5.6,  5.5,  4.9,\n",
       "        3. ,  5.8,  4.1,  6. ,  4.7,  4.8,  5.1,  6.3,  4.4,  3.3,  4.5,\n",
       "        5. ,  4.6,  5.4,  9.7])"
      ]
     },
     "execution_count": 96,
     "metadata": {},
     "output_type": "execute_result"
    }
   ],
   "source": [
    "# Check the output\n",
    "cleanedTitles['Critics Score'].unique()"
   ]
  },
  {
   "cell_type": "markdown",
   "metadata": {},
   "source": [
    "#### Split rows, adapt structure, create subselections and data slices"
   ]
  },
  {
   "cell_type": "markdown",
   "metadata": {},
   "source": [
    "It is also possible to adapt the structure of our data by adding columns, splitting rows and slicing the dataframe to smaller ones. "
   ]
  },
  {
   "cell_type": "code",
   "execution_count": 45,
   "metadata": {
    "scrolled": true
   },
   "outputs": [
    {
     "data": {
      "text/plain": [
       "array(['142', '152', '139', '154', '178', '201', '175', '169', '164',\n",
       "       '179', '127', '165', '155', '140', '153', '118', '180', '195',\n",
       "       '130', '151', '189', '202', '122', '194', '110', '146', '132',\n",
       "       '119', '111', '106', '103', '88', '96', '181', '99', '133', '108',\n",
       "       '107', '149', '126', '141', '135', '120', '112', '144', '102',\n",
       "       '91', '170', '150', '114', '113', '117', '156', '116', '101',\n",
       "       '137', '134', '95', '93', '161', '147', '166', '100', '148', '143',\n",
       "       '168', '138', '158', '128', '123', '162', '163', '105', '157',\n",
       "       '90', '109', '115', '92', '129', '131', '125', '167', '187', '121',\n",
       "       '160', '89', '97', '94', '136', '209', '172', '229', '207', '183',\n",
       "       '124', '159', '238', '188'], dtype=object)"
      ]
     },
     "execution_count": 45,
     "metadata": {},
     "output_type": "execute_result"
    }
   ],
   "source": [
    "cleanedTitles['Runtime'].unique()"
   ]
  },
  {
   "cell_type": "code",
   "execution_count": 97,
   "metadata": {},
   "outputs": [],
   "source": [
    "#Export top 100 selection\n",
    "cleanedTitles.to_csv('data/movies_length_rating.csv', sep=\",\", index=False, na_rep='NaN')"
   ]
  },
  {
   "cell_type": "code",
   "execution_count": null,
   "metadata": {},
   "outputs": [],
   "source": []
  }
 ],
 "metadata": {
  "kernelspec": {
   "display_name": "Python 3 (ipykernel)",
   "language": "python",
   "name": "python3"
  },
  "language_info": {
   "codemirror_mode": {
    "name": "ipython",
    "version": 3
   },
   "file_extension": ".py",
   "mimetype": "text/x-python",
   "name": "python",
   "nbconvert_exporter": "python",
   "pygments_lexer": "ipython3",
   "version": "3.8.8"
  }
 },
 "nbformat": 4,
 "nbformat_minor": 4
}
